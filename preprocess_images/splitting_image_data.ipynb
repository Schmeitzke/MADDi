{
 "cells": [
  {
   "cell_type": "markdown",
   "id": "977404c9",
   "metadata": {},
   "source": [
    "This notebook splits the imaging data into training and testing such that there are no repeating patients in the test set and that the patients in the test set do not appear in training. "
   ]
  },
  {
   "cell_type": "code",
   "execution_count": 18,
   "id": "fdbdb14f-2376-480f-bd77-4644d46bef39",
   "metadata": {},
   "outputs": [],
   "source": [
    "import pandas as pd\n",
    "m2 = pd.read_pickle(\"meta_allcsv.pkl\")"
   ]
  },
  {
   "cell_type": "code",
   "execution_count": 5,
   "id": "fe633e53-30ec-4a74-bcb2-57ebe11fd0b6",
   "metadata": {},
   "outputs": [],
   "source": [
    "m2[\"subject\"] = m2[\"subject\"].str.replace(\"s\", \"S\").str.replace(\"\\n\", \"\")"
   ]
  },
  {
   "cell_type": "code",
   "execution_count": 8,
   "id": "d21cc3e7-8363-4827-b277-aa47885a4c96",
   "metadata": {},
   "outputs": [
    {
     "data": {
      "text/plain": [
       "021_S_0159    16\n",
       "021_S_0337    16\n",
       "041_S_4037    15\n",
       "127_S_0925    14\n",
       "021_S_0626    14\n",
       "              ..\n",
       "027_S_4938     1\n",
       "094_S_0531     1\n",
       "011_S_1080     1\n",
       "052_S_5062     1\n",
       "027_S_4964     1\n",
       "Name: subject, Length: 551, dtype: int64"
      ]
     },
     "execution_count": 8,
     "metadata": {},
     "output_type": "execute_result"
    }
   ],
   "source": [
    "m2[\"subject\"].value_counts()"
   ]
  },
  {
   "cell_type": "code",
   "execution_count": 261,
   "id": "e456ba68-80d5-45eb-ba12-703912383a06",
   "metadata": {},
   "outputs": [
    {
     "data": {
      "text/plain": [
       "551"
      ]
     },
     "execution_count": 261,
     "metadata": {},
     "output_type": "execute_result"
    }
   ],
   "source": [
    "import random\n",
    "subjects = list(set(m2[\"subject\"].values))\n",
    "len(subjects)"
   ]
  },
  {
   "cell_type": "code",
   "execution_count": 262,
   "id": "e03e8f08-88a5-4642-a855-c2ab3de8fda7",
   "metadata": {},
   "outputs": [
    {
     "data": {
      "text/plain": [
       "367.40000000000003"
      ]
     },
     "execution_count": 262,
     "metadata": {},
     "output_type": "execute_result"
    }
   ],
   "source": [
    "0.1*len(m2)"
   ]
  },
  {
   "cell_type": "code",
   "execution_count": 263,
   "id": "f02c4c2f-a9fc-45c6-b829-9f01486a1ede",
   "metadata": {},
   "outputs": [],
   "source": [
    "picked_ids = random.sample(subjects, 368)"
   ]
  },
  {
   "cell_type": "code",
   "execution_count": 264,
   "id": "1adec527-0f18-4893-b445-da2a6ade743f",
   "metadata": {},
   "outputs": [
    {
     "data": {
      "text/plain": [
       "'023_S_0061'"
      ]
     },
     "execution_count": 264,
     "metadata": {},
     "output_type": "execute_result"
    }
   ],
   "source": [
    "picked_ids[0]"
   ]
  },
  {
   "cell_type": "code",
   "execution_count": 267,
   "id": "c4e7d87c-21de-4001-bcd7-1c7df24ef03b",
   "metadata": {},
   "outputs": [],
   "source": [
    "test = pd.DataFrame(columns = [\"img_array\", \"subject\", \"label\"]) #Group\n",
    "for i in range(len(picked_ids)):\n",
    "    s = m2[m2[\"subject\"] == picked_ids[i]].sample()\n",
    "    test = test.append(s)"
   ]
  },
  {
   "cell_type": "code",
   "execution_count": 268,
   "id": "0f3ad6c8-0485-40cb-92fe-7dcf9175eaee",
   "metadata": {},
   "outputs": [],
   "source": [
    "indexes = list(set(m2.index) - set(test.index))"
   ]
  },
  {
   "cell_type": "code",
   "execution_count": 269,
   "id": "4e8c7464-9a42-4e2b-b959-fd2841c04782",
   "metadata": {},
   "outputs": [],
   "source": [
    "train = m2[m2.index.isin(indexes)]"
   ]
  },
  {
   "cell_type": "code",
   "execution_count": 270,
   "id": "053234ec-61e9-401a-801b-f889ffbf1091",
   "metadata": {},
   "outputs": [],
   "source": [
    "train[[\"img_array\"]].to_pickle(\"img_train1.pkl\")\n",
    "test[[\"img_array\"]].to_pickle(\"img_test1.pkl\")"
   ]
  },
  {
   "cell_type": "code",
   "execution_count": 271,
   "id": "7a90b7a9-cc67-4ca4-9b11-54f4bbf7e5d6",
   "metadata": {},
   "outputs": [],
   "source": [
    "train[[\"label\"]].to_pickle(\"img_y_train1.pkl\")\n",
    "test[[\"label\"]].to_pickle(\"img_y_test1.pkl\")"
   ]
  },
  {
   "cell_type": "code",
   "execution_count": null,
   "id": "2c3c4ced-5b6e-4202-9fb2-737dfc5d9e49",
   "metadata": {},
   "outputs": [],
   "source": []
  }
 ],
 "metadata": {
  "kernelspec": {
   "display_name": "Python 3 (ipykernel)",
   "language": "python",
   "name": "python3"
  },
  "language_info": {
   "codemirror_mode": {
    "name": "ipython",
    "version": 3
   },
   "file_extension": ".py",
   "mimetype": "text/x-python",
   "name": "python",
   "nbconvert_exporter": "python",
   "pygments_lexer": "ipython3",
   "version": "3.8.10"
  }
 },
 "nbformat": 4,
 "nbformat_minor": 5
}
