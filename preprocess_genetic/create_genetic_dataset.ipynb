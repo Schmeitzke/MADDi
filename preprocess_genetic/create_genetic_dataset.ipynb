{
 "cells": [
  {
   "cell_type": "markdown",
   "id": "eafeca45",
   "metadata": {},
   "source": [
    "This notebooks takes the pickle file of filtered VCF files (SNPS) and reduces the feature space with a Random Forest algorithm."
   ]
  },
  {
   "cell_type": "code",
   "execution_count": 2,
   "id": "b471d75e-6845-4e01-89c0-b4a6a9a1680a",
   "metadata": {},
   "outputs": [],
   "source": [
    "import pandas as pd\n",
    "import numpy as np\n",
    "import pandas as pd\n",
    "from sklearn.model_selection import train_test_split\n",
    "from keras.models import Sequential\n",
    "from keras.layers import Dense,Dropout, Flatten,BatchNormalization, GaussianNoise\n",
    "import matplotlib.pyplot as plt\n",
    "from tensorflow.keras.optimizers import Adam\n",
    "from tensorflow.keras.utils import to_categorical\n",
    "from sklearn.utils import compute_class_weight\n",
    "from tensorflow.keras import initializers\n",
    "from tensorflow.keras import regularizers\n",
    "import pandas as pd\n",
    "from sklearn.ensemble import RandomForestClassifier\n",
    "from sklearn.feature_selection import SelectFromModel"
   ]
  },
  {
   "cell_type": "code",
   "execution_count": 3,
   "id": "2fbe4b7d-8b05-488c-9f81-bfba54c7c005",
   "metadata": {},
   "outputs": [],
   "source": [
    "vcf = pd.read_pickle(\"all_vcfs.pkl\")"
   ]
  },
  {
   "cell_type": "code",
   "execution_count": 4,
   "id": "29c5912f-aae0-4d0e-b9ee-d26da2d2c193",
   "metadata": {},
   "outputs": [],
   "source": [
    "m = pd.read_csv(\"diagnosis_full.csv\").drop(\"Unnamed: 0\", axis=1).rename(columns = {\"Subject\":\"subject\", \"GROUP\": \"label\"})"
   ]
  },
  {
   "cell_type": "code",
   "execution_count": 5,
   "id": "d9b392fe-2320-483b-aacb-2eeb31ed53be",
   "metadata": {},
   "outputs": [],
   "source": [
    "m = m[m[\"label\"] != -1]"
   ]
  },
  {
   "cell_type": "code",
   "execution_count": 6,
   "id": "8a35acf7-3f15-4599-8bda-43aa1ba1b0b0",
   "metadata": {},
   "outputs": [],
   "source": [
    "vcf = vcf.merge(m[[\"subject\", \"label\"]], on = \"subject\")"
   ]
  },
  {
   "cell_type": "code",
   "execution_count": null,
   "id": "4579d195-7a1b-467f-baab-ca83710f445f",
   "metadata": {},
   "outputs": [],
   "source": [
    "vcf = vcf.drop_duplicates()"
   ]
  },
  {
   "cell_type": "code",
   "execution_count": 161,
   "id": "20f3af9e-19c3-483c-a4c5-14a1f5fa44fa",
   "metadata": {},
   "outputs": [],
   "source": [
    "# Using Random Forest to reduce feature dimensions\n",
    "sel = SelectFromModel(RandomForestClassifier(n_estimators = 100))"
   ]
  },
  {
   "cell_type": "code",
   "execution_count": 150,
   "id": "31ddbe80-a329-4b6e-9849-b310cc4b0072",
   "metadata": {},
   "outputs": [],
   "source": [
    "cols = list(set(vcf.columns) - set([\"subject\", \"Group\", \"label\"]))\n",
    "X = vcf[cols].values.astype(int)\n",
    "y = vcf[\"label\"].astype(int).values\n",
    "\n",
    "for i in range(len(y)):\n",
    "    y[i] = y[i]-1"
   ]
  },
  {
   "cell_type": "code",
   "execution_count": 162,
   "id": "f609672d-c2d6-4460-934a-8905f1c6b2d3",
   "metadata": {},
   "outputs": [
    {
     "data": {
      "text/plain": [
       "SelectFromModel(estimator=RandomForestClassifier(n_estimators=50))"
      ]
     },
     "execution_count": 162,
     "metadata": {},
     "output_type": "execute_result"
    }
   ],
   "source": [
    "sel.fit(X, y)"
   ]
  },
  {
   "cell_type": "code",
   "execution_count": 163,
   "id": "1aea190c-7873-48ea-828e-3f01a638dab4",
   "metadata": {},
   "outputs": [
    {
     "data": {
      "text/plain": [
       "7910"
      ]
     },
     "execution_count": 163,
     "metadata": {},
     "output_type": "execute_result"
    }
   ],
   "source": [
    "selected_feat= X_train.columns[(sel.get_support())]\n",
    "len(selected_feat)"
   ]
  },
  {
   "cell_type": "code",
   "execution_count": 26,
   "id": "71280302-2794-4874-89d4-adf25472848e",
   "metadata": {},
   "outputs": [
    {
     "name": "stdout",
     "output_type": "stream",
     "text": [
      "Index([1048576, 1048582, 1048670, 1048693, 1048765, 1048877, 1051144, 1051198,\n",
      "       1051223, 1051239,\n",
      "       ...\n",
      "       1048262, 1048272, 1048274, 1048303, 1048340, 1048384, 1048402, 1048399,\n",
      "       1048477, 1048491],\n",
      "      dtype='object', length=14579)\n"
     ]
    }
   ],
   "source": [
    "print(selected_feat)"
   ]
  },
  {
   "cell_type": "code",
   "execution_count": 164,
   "id": "24c43521-88d8-4120-be0c-5a0cf3ff9819",
   "metadata": {
    "tags": []
   },
   "outputs": [],
   "source": [
    "l = [\"label\", \"subject\", \"Group\"]\n",
    "l.extend(selected_feat)"
   ]
  },
  {
   "cell_type": "code",
   "execution_count": 165,
   "id": "c0410a43-8d76-4180-a7e3-68bca8a33bb1",
   "metadata": {},
   "outputs": [],
   "source": [
    "vcf[l].to_pickle(\"vcf_select6.pkl\")"
   ]
  },
  {
   "cell_type": "code",
   "execution_count": 74,
   "id": "4e18d08c-7e5d-4a1d-9358-6b0f21956321",
   "metadata": {},
   "outputs": [],
   "source": [
    "vcf[l].to_csv(\"vcf_select.csv\")"
   ]
  }
 ],
 "metadata": {
  "kernelspec": {
   "display_name": "Python 3 (ipykernel)",
   "language": "python",
   "name": "python3"
  },
  "language_info": {
   "codemirror_mode": {
    "name": "ipython",
    "version": 3
   },
   "file_extension": ".py",
   "mimetype": "text/x-python",
   "name": "python",
   "nbconvert_exporter": "python",
   "pygments_lexer": "ipython3",
   "version": "3.8.10"
  }
 },
 "nbformat": 4,
 "nbformat_minor": 5
}
